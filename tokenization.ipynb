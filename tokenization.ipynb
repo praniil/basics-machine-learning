{
  "nbformat": 4,
  "nbformat_minor": 0,
  "metadata": {
    "colab": {
      "provenance": []
    },
    "kernelspec": {
      "name": "python3",
      "display_name": "Python 3"
    },
    "language_info": {
      "name": "python"
    }
  },
  "cells": [
    {
      "cell_type": "code",
      "execution_count": 15,
      "metadata": {
        "id": "eLhHY_LWM1T6"
      },
      "outputs": [],
      "source": [
        "import tensorflow as tf\n",
        "from tensorflow import keras\n",
        "from tensorflow.keras.preprocessing.text import Tokenizer\n",
        "from tensorflow.keras.preprocessing.sequence import pad_sequences"
      ]
    },
    {
      "cell_type": "code",
      "source": [
        "sentences = [\n",
        "    'I love my dog',\n",
        "    'I love my cat',\n",
        "    'Do you think my dog is amazing no'\n",
        "]\n",
        "\n",
        "tokenizer = Tokenizer(num_words = 100, oov_token = '<OOV>')\n",
        "tokenizer.fit_on_texts(sentences)\n",
        "word_index = tokenizer.word_index\n",
        "print(\"\\nword index: {}\".format(word_index))\n",
        "\n",
        "sequences = tokenizer.texts_to_sequences(sentences)\n",
        "print(\"\\n sentences: {}\".format(sequences))"
      ],
      "metadata": {
        "colab": {
          "base_uri": "https://localhost:8080/"
        },
        "id": "TaebXa91duG6",
        "outputId": "2e87ff40-2113-42b0-9cca-844106c47817"
      },
      "execution_count": 18,
      "outputs": [
        {
          "output_type": "stream",
          "name": "stdout",
          "text": [
            "\n",
            "word index: {'<OOV>': 1, 'my': 2, 'i': 3, 'love': 4, 'dog': 5, 'cat': 6, 'do': 7, 'you': 8, 'think': 9, 'is': 10, 'amazing': 11, 'no': 12}\n",
            "\n",
            " sentences: [[3, 4, 2, 5], [3, 4, 2, 6], [7, 8, 9, 2, 5, 10, 11, 12]]\n"
          ]
        }
      ]
    },
    {
      "cell_type": "code",
      "source": [
        "padded = pad_sequences(sequences, padding = 'post')\n",
        "print(\"\\n padded= {}\".format(padded))"
      ],
      "metadata": {
        "colab": {
          "base_uri": "https://localhost:8080/"
        },
        "id": "T4i0uDcgeCyk",
        "outputId": "9f8f70b0-4006-44fa-af08-bc085f35d064"
      },
      "execution_count": 25,
      "outputs": [
        {
          "output_type": "stream",
          "name": "stdout",
          "text": [
            "\n",
            " padded= [[ 3  4  2  5  0  0  0  0]\n",
            " [ 3  4  2  6  0  0  0  0]\n",
            " [ 7  8  9  2  5 10 11 12]]\n"
          ]
        }
      ]
    },
    {
      "cell_type": "code",
      "source": [
        "test_sentence = [\n",
        "    'i really love my dog',\n",
        "    'my dog loves my manatee',\n",
        "    'my dog loves my manatee my dog loves my manatee',\n",
        "    'my dog loves my manatee my dog loves my manatee yes or no'\n",
        "]\n",
        "\n",
        "test_sequence = tokenizer.texts_to_sequences(test_sentence)\n",
        "print(\"\\n test sequence = {}\".format(test_sequence))"
      ],
      "metadata": {
        "colab": {
          "base_uri": "https://localhost:8080/"
        },
        "id": "ILIrilcafIAV",
        "outputId": "39e532a6-1924-4b36-ee5c-096d63ccbdb8"
      },
      "execution_count": 32,
      "outputs": [
        {
          "output_type": "stream",
          "name": "stdout",
          "text": [
            "\n",
            " test sequence = [[3, 1, 4, 2, 5], [2, 5, 1, 2, 1], [2, 5, 1, 2, 1, 2, 5, 1, 2, 1], [2, 5, 1, 2, 1, 2, 5, 1, 2, 1, 1, 1, 12]]\n"
          ]
        }
      ]
    },
    {
      "cell_type": "code",
      "source": [
        "test_padding = pad_sequences(test_sequence, padding = 'post', maxlen = 10, truncating = 'post')\n",
        "print(\"\\n test_padding = {}\".format(test_padding))"
      ],
      "metadata": {
        "colab": {
          "base_uri": "https://localhost:8080/"
        },
        "id": "-BneMacKfqO6",
        "outputId": "38905119-23a2-40c9-ac4c-df2a0a9f0353"
      },
      "execution_count": 33,
      "outputs": [
        {
          "output_type": "stream",
          "name": "stdout",
          "text": [
            "\n",
            " test_padding = [[3 1 4 2 5 0 0 0 0 0]\n",
            " [2 5 1 2 1 0 0 0 0 0]\n",
            " [2 5 1 2 1 2 5 1 2 1]\n",
            " [2 5 1 2 1 2 5 1 2 1]]\n"
          ]
        }
      ]
    }
  ]
}